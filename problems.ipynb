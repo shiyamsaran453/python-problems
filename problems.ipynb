{
 "cells": [
  {
   "cell_type": "code",
   "execution_count": null,
   "id": "16264538",
   "metadata": {},
   "outputs": [],
   "source": [
    "\n",
    "def fact(x):\n",
    "    if x == 0:\n",
    "        return 1\n",
    "    return x * fact(x - 1)\n",
    "\n",
    "x=int(input(\"\"))\n",
    "print(fact(x))"
   ]
  },
  {
   "cell_type": "code",
   "execution_count": null,
   "id": "e1e62da3",
   "metadata": {},
   "outputs": [],
   "source": [
    "b=input(\"\")\n",
    "a=b.split(\",\")\n",
    "t=tuple(a)\n",
    "print(t)\n",
    "\n",
    "print(a)\n"
   ]
  },
  {
   "cell_type": "code",
   "execution_count": null,
   "id": "07ea96a1",
   "metadata": {},
   "outputs": [],
   "source": [
    "class saran:\n",
    "    def __init__(self,name,age):\n",
    "        self.name=name\n",
    "        self.age=age\n",
    "    def message(self):\n",
    "        print(f\"my name is {self.name} and my age is {self.age}\")\n",
    "        \n",
    "saran1=saran(\"saran\",19)\n",
    "saran1.message()"
   ]
  },
  {
   "cell_type": "code",
   "execution_count": null,
   "id": "ffc0bb2c",
   "metadata": {},
   "outputs": [],
   "source": [
    "class person:\n",
    "    \n",
    "    def __init__(self,n,a):\n",
    "        self.name=n\n",
    "        self.age=a\n",
    "    def talk(self): \n",
    "        print(\"hi my name\",self.name)\n",
    "    def vote(self):\n",
    "        if self.age<18:\n",
    "            print(\" not elligible\")\n",
    "        else:\n",
    "            print(\"elligible\")\n",
    "sma= person(\"saran\",18)\n",
    "sma1=person(\"shiyam\",17)\n",
    "person.talk(sma)\n",
    "person.vote(sma)\n",
    "person.talk(sma1)\n",
    "person.vote(sma1)\n",
    "            \n",
    "            \n",
    "        \n",
    "        \n",
    "        "
   ]
  },
  {
   "cell_type": "code",
   "execution_count": null,
   "id": "af594265",
   "metadata": {},
   "outputs": [],
   "source": [
    "class ADD:\n",
    "    def __init__(self,n1,n2):\n",
    "        self.n1=n1\n",
    "        self.n2=n2\n",
    "    \n",
    "        \n",
    "    def ad(self):\n",
    "        return self.n1+self.n2\n",
    "\n",
    "obj=ADD(5,4)\n",
    "print(obj.ad())"
   ]
  },
  {
   "cell_type": "code",
   "execution_count": null,
   "id": "f5b5c879",
   "metadata": {},
   "outputs": [],
   "source": [
    "class Add:\n",
    "    def __init__(self, num1, num2):\n",
    "        self.num1 = num1\n",
    "        self.num2 = num2\n",
    "\n",
    "    def add(self):\n",
    "        print(\"hi\")\n",
    "        return self.num1 + self.num2\n",
    "    \n",
    "\n",
    "num1 = int(input(\"Enter first number: \"))\n",
    "num2 = int(input(\"Enter second number: \"))\n",
    "\n",
    "obj = Add(num1, num2)\n",
    "print(\"Sum of the two numbers is:\", obj.add())\n"
   ]
  },
  {
   "cell_type": "code",
   "execution_count": null,
   "id": "aabefe08",
   "metadata": {},
   "outputs": [],
   "source": [
    "class cal:\n",
    "    def __init__(self,n1,n2):\n",
    "        self.n1=n1\n",
    "        self.n2=n2\n",
    "    def add(self):\n",
    "        return self.n1+self.n2\n",
    "    def sub(self):\n",
    "        return self.n1-self.n2\n",
    "\n",
    "n1=int(input(\"\"))\n",
    "n2=int(input(\"\"))\n",
    "       \n",
    "r=cal(n1,n2)\n",
    "\n",
    "r.sub()\n",
    "r.add()      "
   ]
  },
  {
   "cell_type": "code",
   "execution_count": null,
   "id": "3f922f8f",
   "metadata": {},
   "outputs": [],
   "source": []
  },
  {
   "cell_type": "code",
   "execution_count": null,
   "id": "096aeb72",
   "metadata": {},
   "outputs": [],
   "source": [
    "class asd():\n",
    "    \n",
    "        \n",
    "    def __init__(self,n1,n2,n3):\n",
    "        self.n1=n1\n",
    "        self.n2=n2\n",
    "        self.n3=n3\n",
    "    def ani(self):\n",
    "      \n",
    "        print(f\"{self.n1}\\t{self.n2}\\t{self.n3}\")\n",
    "      \n",
    "\n",
    "              \n",
    "n1=input(\"\")\n",
    "n2=input(\"\")\n",
    "n3=input(\"\")\n",
    "   \n",
    "obj=asd(n1,n2,n3)\n",
    "asd.ani(obj)              \n",
    "       \n",
    "        "
   ]
  },
  {
   "cell_type": "code",
   "execution_count": null,
   "id": "dbb44104",
   "metadata": {},
   "outputs": [],
   "source": [
    "class cal:\n",
    "    def __init__(self,n1,n2):\n",
    "        self.n1=n1\n",
    "        self.n2=n2\n",
    "    def display(self):\n",
    "        result=self.add()\n",
    "        print(result)\n",
    "        \n",
    "        \n",
    "class add(cal):\n",
    "    def __init__(self,n1,n2):\n",
    "        super().__init__(n1,n2)\n",
    "    def add(self):\n",
    "        return self.n1+self.n2\n",
    "        \n",
    "        \n",
    "n1=int(input(\"\"))\n",
    "n2=int(input(\"\"))\n",
    "add=add(n1,n2)\n",
    "add.display()"
   ]
  },
  {
   "cell_type": "code",
   "execution_count": null,
   "id": "2c989b20",
   "metadata": {},
   "outputs": [],
   "source": [
    "class animal:\n",
    "    def __init__(self,value):\n",
    "        self.v=value\n",
    "        print(f\"it can play{self.v}\")\n",
    "class dog(animal):\n",
    "    def __init__(self,value):\n",
    "        super.__init__(value)\n",
    "    def display(self):\n",
    "        print(\"dog can bark \")\n",
    "class cat(animal):\n",
    "    def __init__(self,value):\n",
    "        super().__init__(value)\n",
    "    def display(self):\n",
    "        print(\"cat can meow\")\n",
    "   \n",
    "     \n",
    "class cow(animal):\n",
    "    def __init__(self,value):\n",
    "         super().__init__(value)\n",
    "    def display(self):\n",
    "        print(\"cow can maa\")\n",
    "       \n",
    "\n",
    "        \n",
    "value=input(\"\")\n",
    "cow=cow(value)\n",
    "cow.display()\n",
    "cat=cat(value)\n",
    "cat.display()\n",
    "\n",
    "\n",
    "        \n",
    "        "
   ]
  },
  {
   "cell_type": "code",
   "execution_count": null,
   "id": "14d03477",
   "metadata": {},
   "outputs": [],
   "source": [
    "fruits = [\"apple\", \"banana\", \"cherry\"]\n",
    "for x in fruits:\n",
    "    if x == \"banana\":\n",
    "        continue\n",
    "    print(x)"
   ]
  },
  {
   "cell_type": "code",
   "execution_count": null,
   "id": "a60a1cab",
   "metadata": {},
   "outputs": [],
   "source": [
    "for x in range(6):\n",
    "    if x == 3:\n",
    "        break\n",
    "        print(x)\n",
    "else:\n",
    "    print(\"Finally finished!\")\n"
   ]
  },
  {
   "cell_type": "code",
   "execution_count": null,
   "id": "2c7cf582",
   "metadata": {},
   "outputs": [],
   "source": [
    "i=1\n",
    "while i<9:\n",
    "   \n",
    "    i+=2\n",
    "    if i==5:\n",
    "        continue\n",
    "    print(i)"
   ]
  },
  {
   "cell_type": "code",
   "execution_count": null,
   "id": "33e1a2c0",
   "metadata": {},
   "outputs": [],
   "source": [
    "print(\"hi\")"
   ]
  },
  {
   "cell_type": "code",
   "execution_count": null,
   "id": "976e234e",
   "metadata": {},
   "outputs": [],
   "source": [
    "for i in range(0,2):\n",
    "    print(\"*\")\n",
    "    if i==1:\n",
    "        break\n",
    "        "
   ]
  },
  {
   "cell_type": "code",
   "execution_count": null,
   "id": "7eb69372",
   "metadata": {},
   "outputs": [],
   "source": [
    "l=int(input(\"\"))\n",
    "w=int(input(\"\"))\n",
    "p=2*(l+w)\n",
    "print(p)"
   ]
  },
  {
   "cell_type": "code",
   "execution_count": null,
   "id": "e3fcea53",
   "metadata": {},
   "outputs": [],
   "source": [
    "def animals():\n",
    "    ch=int(input(\"\"))\n",
    "    c=int(input(\"\"))\n",
    "    p=int(input(\"\"))\n",
    "    ch1=ch*2\n",
    "    c1=c*4\n",
    "    p1=p*4\n",
    "    su_m=ch1+c1+p1\n",
    "    print(su_m)\n",
    "\n",
    "\n",
    "         \n",
    "\n",
    "    "
   ]
  },
  {
   "cell_type": "code",
   "execution_count": null,
   "id": "5a9ccd55",
   "metadata": {},
   "outputs": [],
   "source": [
    "animals()"
   ]
  },
  {
   "cell_type": "code",
   "execution_count": null,
   "id": "c0de4516",
   "metadata": {},
   "outputs": [],
   "source": [
    "b=int(input(\"\"))\n",
    "h=int(input(\"\"))\n",
    "t=b*h/2\n",
    "print(t)"
   ]
  },
  {
   "cell_type": "code",
   "execution_count": null,
   "id": "b1677bfd",
   "metadata": {},
   "outputs": [],
   "source": [
    "def num(n):\n",
    "    n+=1\n",
    "    print(n)\n",
    "    "
   ]
  },
  {
   "cell_type": "code",
   "execution_count": null,
   "id": "d9a2018b",
   "metadata": {},
   "outputs": [],
   "source": [
    "num(5)"
   ]
  },
  {
   "cell_type": "code",
   "execution_count": null,
   "id": "1aa4da4c",
   "metadata": {},
   "outputs": [],
   "source": [
    "a=int(input(\"\"))\n",
    "b=a*a*a\n",
    "print(b)"
   ]
  },
  {
   "cell_type": "code",
   "execution_count": null,
   "id": "0b511e3a",
   "metadata": {},
   "outputs": [],
   "source": [
    "def ma_x():\n",
    "    s1=int(input(\"\"))\n",
    "    s2=int(input(\"\"))\n",
    "    c=(s1+s2)-1\n",
    "    print(c)\n",
    "    "
   ]
  },
  {
   "cell_type": "code",
   "execution_count": null,
   "id": "64999bee",
   "metadata": {},
   "outputs": [],
   "source": [
    "ma_x()"
   ]
  },
  {
   "cell_type": "code",
   "execution_count": null,
   "id": "f115f0f7",
   "metadata": {},
   "outputs": [],
   "source": [
    "a=int(input(\"\"))\n",
    "b=int(input(\"\"))\n",
    "c=a%b\n",
    "print(c)"
   ]
  },
  {
   "cell_type": "code",
   "execution_count": null,
   "id": "43836ab1",
   "metadata": {},
   "outputs": [],
   "source": [
    "poly=int(input(\"\"))\n",
    "s=(poly-2)*180\n",
    "print(s)"
   ]
  },
  {
   "cell_type": "code",
   "execution_count": null,
   "id": "c6d9aa53",
   "metadata": {},
   "outputs": [],
   "source": [
    "import math\n"
   ]
  },
  {
   "cell_type": "code",
   "execution_count": null,
   "id": "02be1dfe",
   "metadata": {},
   "outputs": [],
   "source": [
    "n=int(input(\"\"))\n",
    "p=int(input(\"\"))\n",
    "po=math.pow(n,p)\n",
    "print(po)"
   ]
  },
  {
   "cell_type": "code",
   "execution_count": null,
   "id": "c2351021",
   "metadata": {},
   "outputs": [],
   "source": [
    "a=input(\"\")\n",
    "s=math.pow(len(a),2)\n",
    "print(s)"
   ]
  },
  {
   "cell_type": "code",
   "execution_count": null,
   "id": "48617e92",
   "metadata": {},
   "outputs": [],
   "source": [
    "w=int(input(\"\"))\n",
    "d=int(input(\"\"))\n",
    "l=int(input(\"\"))\n",
    "w1=3*w\n",
    "d1=1*d\n",
    "l1=0*l\n",
    "s=w1+d1+l1\n",
    "print(s)\n"
   ]
  },
  {
   "cell_type": "code",
   "execution_count": null,
   "id": "d8f9823a",
   "metadata": {},
   "outputs": [],
   "source": [
    "a=int(input(\"ori\"))\n",
    "b=int(input(\"dis\"))\n",
    "d=b/100\n",
    "d1=d*1000\n",
    "o=a-d1\n",
    "print(o)\n",
    "\n"
   ]
  },
  {
   "cell_type": "code",
   "execution_count": null,
   "id": "5287a798",
   "metadata": {},
   "outputs": [],
   "source": [
    "b=20/100"
   ]
  },
  {
   "cell_type": "code",
   "execution_count": null,
   "id": "2837f50b",
   "metadata": {},
   "outputs": [],
   "source": [
    "b"
   ]
  },
  {
   "cell_type": "code",
   "execution_count": null,
   "id": "bd308d57",
   "metadata": {},
   "outputs": [],
   "source": [
    "n=0.2*100\n"
   ]
  },
  {
   "cell_type": "code",
   "execution_count": null,
   "id": "8a4816b0",
   "metadata": {},
   "outputs": [],
   "source": [
    "n"
   ]
  },
  {
   "cell_type": "code",
   "execution_count": null,
   "id": "ea7291e5",
   "metadata": {},
   "outputs": [],
   "source": [
    "v=89-20\n"
   ]
  },
  {
   "cell_type": "code",
   "execution_count": null,
   "id": "9c298b49",
   "metadata": {},
   "outputs": [],
   "source": [
    "Original Price = $100\n",
    "Discount Percentage = 20%\n",
    "Discount Percentage in decimal form = 0.20\n",
    "Discount Amount = $100 * 0.20 = $20\n",
    "Discounted Price = $100 - $20 = $80\n",
    "So, in this example, the discounted price"
   ]
  },
  {
   "cell_type": "code",
   "execution_count": null,
   "id": "f8a21aed",
   "metadata": {},
   "outputs": [],
   "source": [
    "#discount calculator\n",
    "a=int(input(\"\"))\n",
    "b=int(input(\"\"))\n",
    "c=b/100\n",
    "a1=a*c\n",
    "a2=a-a1\n",
    "print(a2)"
   ]
  },
  {
   "cell_type": "code",
   "execution_count": null,
   "id": "9974e7fc",
   "metadata": {},
   "outputs": [],
   "source": [
    "r=int(input(\"\"))\n",
    "s=int(input(\"\"))\n",
    "circum=2*3.14*s\n",
    "print(circum)\n",
    "perisq=4*r\n",
    "print(perisq)\n",
    "if circum > perisq:\n",
    "    print(\"true\")\n",
    "elif perisq > circum:\n",
    "    print(\"false\")\n",
    "else:\n",
    "    print(\"nothing\")\n",
    "    \n",
    "    "
   ]
  },
  {
   "cell_type": "code",
   "execution_count": null,
   "id": "f99ec26c",
   "metadata": {},
   "outputs": [],
   "source": [
    "a=\"s\"\n",
    "b=\"m\"\n",
    "c=\"h\"\n",
    "hi=input(\"\")\n",
    "if hi==a:\n",
    "    da=int(input(\"\"))\n",
    "    sp=int(input(\"\"))\n",
    "    ans=da*sp\n",
    "    print(ans)\n",
    "\n",
    "elif hi==b:\n",
    "    da=int(input(\"\"))\n",
    "    sp=int(input(\"\"))\n",
    "    ans=da*sp*60\n",
    "    print(ans)\n",
    "elif hi==c:\n",
    "    da=int(input(\"\"))\n",
    "    sp=int(input(\"\"))\n",
    "    ans=da*sp*3600\n",
    "    print(ans)\n",
    "    \n",
    "else:\n",
    "    print(\"hi\")\n",
    "    \n",
    "    \n",
    "\n",
    "    \n",
    "    \n"
   ]
  },
  {
   "cell_type": "code",
   "execution_count": null,
   "id": "ce215f48",
   "metadata": {},
   "outputs": [],
   "source": [
    "father=\"darth vader\"\n",
    "sister=\"leia\"\n",
    "brother=\"han\"\n",
    "a=input(\"\")\n",
    "if a==father:\n",
    "    print(f\"{father} is a father\")\n",
    "elif a==sister:\n",
    "    print(f\"{sister} is a sister of luke\")\n",
    "elif a==brother:\n",
    "          print(f\"{brother}is a brother of luke\")\n",
    "else:\n",
    "                print(\"invalid\")\n",
    "                \n",
    "                \n",
    "                    "
   ]
  },
  {
   "cell_type": "code",
   "execution_count": null,
   "id": "f062f169",
   "metadata": {},
   "outputs": [],
   "source": [
    "import array as a\n"
   ]
  },
  {
   "cell_type": "code",
   "execution_count": null,
   "id": "d87c2dad",
   "metadata": {},
   "outputs": [],
   "source": [
    "x=[]\n",
    "a=int(input(\"no\"))\n",
    "for i in range((a)):\n",
    "    i=float(input(\"\"))\n",
    "    x.append(i)\n",
    "    su=sum(x)\n",
    "    print(f\"the answer is {su} ohm\")\n",
    "   "
   ]
  },
  {
   "cell_type": "code",
   "execution_count": null,
   "id": "a8eb0743",
   "metadata": {},
   "outputs": [],
   "source": [
    "def calc ():\n",
    "    op=input(\"+,-,*,/\")\n",
    "    a=float(input(\"\"))\n",
    "    b=float(input(\"\"))\n",
    "    if op==\"+\":\n",
    "        print(a+b) \n",
    "    elif op==\"-\":\n",
    "        print(a-b)\n",
    "    elif op==\"*\":\n",
    "        print(a*b)\n",
    "    elif op==\"/\":\n",
    "        print(a/b)\n",
    "    else:\n",
    "        print(\"select correct operator\")\n",
    "    "
   ]
  },
  {
   "cell_type": "code",
   "execution_count": null,
   "id": "0df59a51",
   "metadata": {},
   "outputs": [],
   "source": [
    "calc()"
   ]
  },
  {
   "cell_type": "code",
   "execution_count": null,
   "id": "c8db92fb",
   "metadata": {},
   "outputs": [],
   "source": [
    "#sorting\n",
    "def sor_t():\n",
    "    lst=[2,3,8,5,0,4,7,2,8,1,3,9,34]\n",
    "    a=input(\"enter asc or dsc \")\n",
    "    if a==\"asc\":\n",
    "        lst.sort()\n",
    "        return lst\n",
    "    elif a==\"dsc\":\n",
    "        lst.sort(reverse=True)\n",
    "        return lst\n",
    "    elif a==\"none\":\n",
    "        print(lst)\n",
    "    else:\n",
    "        print(\"nothing\")\n",
    "        "
   ]
  },
  {
   "cell_type": "code",
   "execution_count": null,
   "id": "1a9bbf4e",
   "metadata": {},
   "outputs": [],
   "source": [
    "sor_t()"
   ]
  },
  {
   "cell_type": "code",
   "execution_count": null,
   "id": "18192b2b",
   "metadata": {},
   "outputs": [],
   "source": [
    "x=int(input(\"\"))\n",
    "s=x*fact(x-1)\n",
    "print(x)"
   ]
  },
  {
   "cell_type": "code",
   "execution_count": null,
   "id": "5e3731f8",
   "metadata": {},
   "outputs": [],
   "source": [
    "#factorial\n",
    "def fact(a):\n",
    "    \n",
    "    fact=1\n",
    "    if a<0:\n",
    "        print(\"fact does not exist for -ve num\")\n",
    "    elif a==0:\n",
    "        print(\"fact of 0 is 1\")\n",
    "    else:\n",
    "        for i in range(1,a+1):\n",
    "            fact=fact*i\n",
    "    print(\"the factorial of \", i, \"is\", fact)       \n",
    "            \n",
    "        \n",
    "    \n",
    "    "
   ]
  },
  {
   "cell_type": "code",
   "execution_count": null,
   "id": "8614f71d",
   "metadata": {},
   "outputs": [],
   "source": [
    "fact(13)"
   ]
  },
  {
   "cell_type": "code",
   "execution_count": null,
   "id": "daf68df7",
   "metadata": {},
   "outputs": [],
   "source": [
    "import math\n"
   ]
  },
  {
   "cell_type": "code",
   "execution_count": null,
   "id": "619bfbd9",
   "metadata": {},
   "outputs": [],
   "source": [
    "#number split\n",
    "lst=[]\n",
    "a=int(input(\"\"))\n",
    "b=a/2\n",
    "c=math.floor(b)#The math.floor() method rounds a number DOWN to the nearest integer, if necessary, and returns the result.\n",
    "lst.append(c)\n",
    "d=math.ceil(b)\n",
    "lst.append(d) #the math.ceil() method rounds a number UP to the nearest integer, if necessary, and returns the result.\n",
    "print(lst)\n",
    "\n",
    "    "
   ]
  },
  {
   "cell_type": "code",
   "execution_count": null,
   "id": "70138dd3",
   "metadata": {},
   "outputs": [],
   "source": [
    "#Create a function that takes a number as input and returns True if the sum of its digits has the same parity as the entire number. Otherwise, return False.\n",
    "def parity():\n",
    "    lst=[]\n",
    "    a=int(input(\"\"))\n",
    "    for i in str(a):\n",
    "        lst.append(int(x))\n",
    "        \n",
    "    if sum(lst)%2==0 and a%2==0:\n",
    "        print(\"true\")\n",
    "    elif sum(lst)%2!=0 and a%2!=0:\n",
    "        print(\"true\")\n",
    "    else:\n",
    "        print(\"false\")\n",
    "        \n",
    "    \n",
    "  "
   ]
  },
  {
   "cell_type": "code",
   "execution_count": null,
   "id": "8f7b1fcb",
   "metadata": {},
   "outputs": [],
   "source": []
  },
  {
   "cell_type": "code",
   "execution_count": null,
   "id": "0d993429",
   "metadata": {},
   "outputs": [],
   "source": [
    "#Create a function which concatenates the number 7 to the end of every chord in a list. Ignore all chords which already end with 7.\n",
    "lst=[]\n",
    "a1=int(input(\"\"))\n",
    "for i in range(a1):\n",
    "    a=str(input(\"\"))\n",
    "    b=str(7)\n",
    "    c=a+b\n",
    "    lst.append(c)\n",
    "print(lst)\n",
    "\n",
    "   \n",
    "    \n",
    " \n"
   ]
  },
  {
   "cell_type": "code",
   "execution_count": null,
   "id": "5a277566",
   "metadata": {},
   "outputs": [],
   "source": [
    "#Create a function that takes in a current mood and return a sentence in the following format: \"Today, I am feeling {mood}\". However, if no argument is passed, return \"Today, I am feeling neutral\".\n",
    "def mood(mood):\n",
    "    if mood==\"happy\":\n",
    "        print(f\"today,i am feeling {mood}\")\n",
    "    elif mood==\"sad\":\n",
    "              print(f\"today, i am feeling {mood}\")\n",
    "    else:\n",
    "        print(\"today, i am feeling neutral\")\n",
    "                    "
   ]
  },
  {
   "cell_type": "code",
   "execution_count": null,
   "id": "315e77fa",
   "metadata": {},
   "outputs": [],
   "source": [
    "import math"
   ]
  },
  {
   "cell_type": "code",
   "execution_count": null,
   "id": "fe7a602b",
   "metadata": {},
   "outputs": [],
   "source": [
    "#Create a function that validates whether three given integers form a Pythagorean triplet. The sum of the squares of the two smallest integers must equal the square of the largest number to be validated\n",
    "def triplet():\n",
    "    a=int(input(\"\"))\n",
    "    b=int(input(\"\"))\n",
    "    c=int(input(\"\"))\n",
    "    \n",
    "    \n",
    "    a1=math.pow(a,2)\n",
    "    print(a1)\n",
    "    b1=math.pow(b,2)\n",
    "    print(b1)\n",
    "    c1=math.pow(c,2)\n",
    "    print(c1)\n",
    "    \n",
    "    if a1 + b1 == c1:\n",
    "        print(\"true\")\n",
    "    else:\n",
    "        print(\"false\")\n",
    "        "
   ]
  },
  {
   "cell_type": "code",
   "execution_count": null,
   "id": "1b58a225",
   "metadata": {},
   "outputs": [],
   "source": [
    "\n",
    "triplet()"
   ]
  },
  {
   "cell_type": "code",
   "execution_count": null,
   "id": "f6327230",
   "metadata": {},
   "outputs": [],
   "source": [
    "\n"
   ]
  },
  {
   "cell_type": "code",
   "execution_count": null,
   "id": "ada812a2",
   "metadata": {},
   "outputs": [],
   "source": [
    "l=[1,2,5,45,9,0,67]\n",
    "l.sort()\n",
    "print(l)\n",
    "s=len(l)\n",
    "print(s)\n",
    "l[6]\n"
   ]
  },
  {
   "cell_type": "markdown",
   "id": "304e1d89",
   "metadata": {},
   "source": [
    "###### "
   ]
  },
  {
   "cell_type": "code",
   "execution_count": null,
   "id": "9ef301ef",
   "metadata": {},
   "outputs": [],
   "source": [
    "a=[]\n",
    "b=str(input(\"\"))\n",
    "a.append(b)\n",
    "c=len(a)\n",
    "\n",
    "print(c)"
   ]
  },
  {
   "cell_type": "code",
   "execution_count": null,
   "id": "13a7b7b6",
   "metadata": {},
   "outputs": [],
   "source": [
    "a=str(input(\"\"))\n",
    "\n",
    "\n",
    "b=int(a)\n",
    "\n",
    "print(type(b))"
   ]
  },
  {
   "cell_type": "code",
   "execution_count": null,
   "id": "da96e3d0",
   "metadata": {},
   "outputs": [],
   "source": [
    "#Create a function that takes a number as an argument and returns \"Fizz\", \"Buzz\" or \"FizzBuzz\".\n",
    "a=int(input(\"\"))\n",
    "if a%3==0 and a%5==0:\n",
    "    print(\"fizz buzz\")\n",
    "elif a%5==0:\n",
    "    print(\"buzz\")\n",
    "    \n",
    "elif a%3==0 :\n",
    "    print(\"fizz\")\n",
    "else:\n",
    "    print(a)\n"
   ]
  },
  {
   "cell_type": "code",
   "execution_count": null,
   "id": "159658dd",
   "metadata": {},
   "outputs": [],
   "source": [
    "#In cricket, an over consists of six deliveries a bowler bowls from one end. Create a function that takes the number of balls bowled by a bowler and calculates the number of overs and balls bowled by him/her. Return the value as a float, in the format overs.balls.\n",
    "a=int(input(\"\"))\n",
    "ans=int(round((a-a%6)/6))\n",
    "b=a%6\n",
    "print(f\"{ans} over and {b} balls\")"
   ]
  },
  {
   "cell_type": "code",
   "execution_count": null,
   "id": "a453967a",
   "metadata": {},
   "outputs": [],
   "source": [
    "#Create a function that takes two numbers as arguments (num, length) and returns a list of multiples of num until the list length reaches length.\n",
    "def mul(num,length):\n",
    "    a=[]\n",
    "    for i in range(length+1):\n",
    "        s=num*i                         #num=int(input(\"\"))\n",
    "        a.append(s)                          #length=int(input(\"\")\n",
    "    print(a)\n",
    "   \n",
    "    \n",
    "\n",
    "        \n",
    "            \n",
    "            \n",
    "            \n",
    "    "
   ]
  },
  {
   "cell_type": "code",
   "execution_count": null,
   "id": "1c01fbeb",
   "metadata": {},
   "outputs": [],
   "source": [
    "mul(20,10)"
   ]
  },
  {
   "cell_type": "code",
   "execution_count": null,
   "id": "0bb0510e",
   "metadata": {},
   "outputs": [],
   "source": [
    "#Create a function that takes two number strings and returns their sum as a string.\n",
    "\n",
    "def s(a,b):\n",
    "    if a==str(a) and b==str(b):\n",
    "        a1=int(a)\n",
    "        b1=int(b)\n",
    "        add=a1+b1\n",
    "        print(add)\n",
    "    else:\n",
    "        print(\"invalid operations\")\n",
    "        \n",
    "  \n",
    "\n",
    "\n",
    "\n"
   ]
  },
  {
   "cell_type": "code",
   "execution_count": null,
   "id": "aaa8a8cf",
   "metadata": {},
   "outputs": [],
   "source": [
    "s(\"55\",\"45\")"
   ]
  },
  {
   "cell_type": "code",
   "execution_count": null,
   "id": "d8fb8a45",
   "metadata": {},
   "outputs": [],
   "source": [
    "class calculator:\n",
    "    def __init__(self,a,b):\n",
    "        self.a=a\n",
    "        self.b=b\n",
    "    def add(self):\n",
    "        return self.a+self.b\n",
    "    def sub(self):\n",
    "        return self.a-self.b\n",
    "    def mul(self):\n",
    "        return self.a*self.b\n",
    "    def div(self):\n",
    "        return self.a/self.b\n",
    "\n",
    "a=int(input(\"\"))\n",
    "b=int(input(\"\"))\n",
    "calc=calculator(a,b)\n",
    "\n",
    "\n",
    "\n",
    "\n",
    "        \n",
    "        \n",
    "        \n",
    "        "
   ]
  },
  {
   "cell_type": "code",
   "execution_count": null,
   "id": "4a91eeda",
   "metadata": {},
   "outputs": [],
   "source": [
    "calc.add()"
   ]
  },
  {
   "cell_type": "code",
   "execution_count": null,
   "id": "7468d129",
   "metadata": {},
   "outputs": [],
   "source": [
    "class Employee:\n",
    "    def __init__(self, firstname, lastname):\n",
    "        self.firstname = firstname\n",
    "        self.lastname = lastname\n",
    "        self.fullname = firstname + ' ' + lastname\n",
    "        self.email = '{}.{}@company.com'.format(firstname, lastname).lower()\n",
    "e1=Employee(\"shiyam\",\"saran\")"
   ]
  },
  {
   "cell_type": "code",
   "execution_count": null,
   "id": "d2f31e03",
   "metadata": {},
   "outputs": [],
   "source": [
    "e1.email"
   ]
  },
  {
   "cell_type": "code",
   "execution_count": null,
   "id": "308adcd7",
   "metadata": {},
   "outputs": [],
   "source": [
    "a1=[1,2,4,5,7]\n",
    "b1=[3,6,7]\n",
    "if a1 in b1:\n",
    "    print(\"false\")\n",
    "else:\n",
    "    print(\"true\")"
   ]
  },
  {
   "cell_type": "code",
   "execution_count": null,
   "id": "09411043",
   "metadata": {},
   "outputs": [],
   "source": [
    "import json\n"
   ]
  },
  {
   "cell_type": "code",
   "execution_count": null,
   "id": "92446871",
   "metadata": {},
   "outputs": [],
   "source": [
    "#Write a Python function to reverse a list at a specific location.\n",
    "def ca(a,c,c1):\n",
    "    a1=[]\n",
    "    a=int(input(\"how many num you want to add in a list\"))\n",
    "    for i in range(a):\n",
    "        b=int(input(\"\"))\n",
    "        a1.append(b)\n",
    "    print(a1)\n",
    "    c=int(input(\"in which index number you want to swap\"))\n",
    "    c1=int(input(\"in which index number you want to swap\"))\n",
    "    while c < c1 or c1 < c:\n",
    "        if c< c1:\n",
    "            a1[c],a1[c1]=a1[c1],a1[c]\n",
    "            c+=1\n",
    "            c1-=1\n",
    "            return a1\n",
    "       \n",
    "        elif c1<c:\n",
    "            a1[c1],a1[c]=a1[c],a1[c1]\n",
    "            c1+=1\n",
    "            c-=1\n",
    "   \n",
    "\n",
    "\n",
    "    \n",
    "    \n",
    "\n",
    "    "
   ]
  },
  {
   "cell_type": "code",
   "execution_count": null,
   "id": "00382286",
   "metadata": {},
   "outputs": [],
   "source": [
    "ca(5,0,8)\n"
   ]
  },
  {
   "cell_type": "code",
   "execution_count": null,
   "id": "04f50328",
   "metadata": {},
   "outputs": [],
   "source": [
    "#palindrome\n",
    "lst=[]\n",
    "a=int(input(\"how many num you want to add in a list\"))\n",
    "for i in range(a):\n",
    "    b=(input(\"\"))\n",
    "    lst.append(b)\n",
    "if lst == lst[::-1]:\n",
    "    print(\"palindrome\")\n",
    "else:\n",
    "    print(\"its not a palindrome\")\n"
   ]
  },
  {
   "cell_type": "code",
   "execution_count": null,
   "id": "5c01d512",
   "metadata": {},
   "outputs": [],
   "source": [
    "\n",
    "\n",
    " "
   ]
  },
  {
   "cell_type": "code",
   "execution_count": null,
   "id": "33870dab",
   "metadata": {},
   "outputs": [],
   "source": [
    "a=[1,2,3,4]\n",
    "if a[0]==a[1]==a.pop(a[1]) or a[0]==a[2]==a.pop(a[2])  or a[0]==a[3]==a.pop(a[3]) :\n",
    "    print(a)\n",
    "elif a[1]==a[0]==a.pop(a[0]) or a[1]==a[2]==a.pop(a[2])  or a[1]==a[3]==a.pop(a[3]) :\n",
    "    print(a)\n",
    "elif a[2]==a[1]==a.pop(a[1]) or a[2]==a[0]==a.pop(a[0])  or a[2]==a[3]==a.pop(a[3]) :\n",
    "     print(a)\n",
    "elif a[3]==a[1]==a.pop(a[1]) or a[3]==a[2]==a.pop(a[2])  or a[3]==a[0]==a.pop(a[0]) :\n",
    "    print(a)\n",
    "else:\n",
    "    print(a)\n",
    "    \n",
    "'''from collections import OrderedDict\n",
    "def remove_duplicates(lst):\n",
    "    return list(OrderedDict.fromkeys(lst))\n",
    "\n",
    "nums = [1,2,4,3,5,4,6,9,2,1]\n",
    "print(\"Original lists:\")\n",
    "print(nums)\n",
    "result = remove_duplicates(nums)\n",
    "print(\"Remove duplicates from the said list while preserving the order:\")\n",
    "print(result)\n",
    "chars = ['a','a','b','a', 'a', 'c', 'c', 'c','d','e','a', 'b', 'b', 'b']\n",
    "print(\"\\nOriginal lists:\")\n",
    "print(chars)\n",
    "result = remove_duplicates(chars)\n",
    "print(\"Remove duplicates from the said list while preserving the order:\")\n",
    "print(result)\n",
    "'''    \n",
    "    \n",
    "    \n",
    "        "
   ]
  },
  {
   "cell_type": "code",
   "execution_count": null,
   "id": "b63ffdaf",
   "metadata": {},
   "outputs": [],
   "source": [
    "a=[1,2,2,1]\n",
    "a.sort(reverse=True)"
   ]
  },
  {
   "cell_type": "code",
   "execution_count": null,
   "id": "a4e960db",
   "metadata": {},
   "outputs": [],
   "source": [
    "a"
   ]
  },
  {
   "cell_type": "code",
   "execution_count": null,
   "id": "cc2fecf7",
   "metadata": {},
   "outputs": [],
   "source": [
    "#Write a Python program to find a list of integers with exactly two occurrences of nineteen and at least three occurrences of five. Return True otherwise False.\n",
    "a=[19,19,5,5,2]\n",
    "if a.count(19)==2 and a.count(5)>=3:\n",
    "    print(\"true\")\n",
    "else:\n",
    "    print(\"false\")\n",
    "    "
   ]
  },
  {
   "cell_type": "code",
   "execution_count": null,
   "id": "3276d345",
   "metadata": {},
   "outputs": [],
   "source": [
    "a=[]\n",
    "a1=int(input(\"num\"))\n",
    "for i in range(a1):\n",
    "    c=int(input(\"enter a number\"))\n",
    "    a.append(c)\n",
    "b=len(a)\n",
    "if a.count(5)==3 and len(a)==8:\n",
    "    print(\"true\")\n",
    "else:\n",
    "    print(\"false\")\n"
   ]
  },
  {
   "cell_type": "code",
   "execution_count": null,
   "id": "3318c288",
   "metadata": {},
   "outputs": [],
   "source": [
    "import math\n"
   ]
  },
  {
   "cell_type": "code",
   "execution_count": null,
   "id": "dec22fec",
   "metadata": {},
   "outputs": [],
   "source": [
    "#Write a Python program that accepts an integer and determines whether it is greater than 4^4 and which is 4 mod 34.\n",
    "a=int(input(\"\"))\n",
    "b=math.pow(4,4)\n",
    "if a>b and a%34==4:\n",
    "    print(\"true\")\n",
    "else:\n",
    "    print(\"false\")"
   ]
  },
  {
   "cell_type": "code",
   "execution_count": null,
   "id": "22b02c46",
   "metadata": {},
   "outputs": [],
   "source": [
    "a1=[]\n",
    "a=int(input(\"\"))\n",
    "count=2\n",
    "for i in range(a+1):\n",
    "    b=a+count\n",
    "    a1.append(b)\n",
    "print(a1)    "
   ]
  },
  {
   "cell_type": "code",
   "execution_count": null,
   "id": "8036a5b1",
   "metadata": {},
   "outputs": [],
   "source": [
    "#We are making n stone piles! The first pile has n stones. If n is even, then all piles have an even number of stones. If n is odd, all piles have an odd number of stones. Each pile must more stones than the previous pile but as few as possible. Write a Python program to find the number of stones in each pile.\n",
    "a=int(input(\"\"))\n",
    "count=2\n",
    "a1=[]\n",
    "for i in range (a):\n",
    "    b=a+count*i\n",
    "    a1.append(b)\n",
    "\n",
    "print(a1)\n",
    "    "
   ]
  },
  {
   "cell_type": "code",
   "execution_count": null,
   "id": "74decea2",
   "metadata": {},
   "outputs": [],
   "source": [
    "A=[2,4,56,7,8,77]\n",
    "A.sort(reverse=True)\n",
    "print(A)\n",
    "A.sort()\n",
    "print(A)\n"
   ]
  },
  {
   "cell_type": "code",
   "execution_count": null,
   "id": "074374e8",
   "metadata": {},
   "outputs": [],
   "source": [
    "a={1:2,2:3,3:4}\n",
    "a.update({8:0})\n",
    "a[9]=0\n",
    "if 1 in a:\n",
    "    print(\"hi\")\n",
    "        \n",
    "print(a)\n"
   ]
  },
  {
   "cell_type": "code",
   "execution_count": null,
   "id": "9fbd8986",
   "metadata": {},
   "outputs": [],
   "source": [
    "a={1:2,2:3,3:4}\n",
    "b={5:4,9:6}\n",
    "c={}\n",
    "c.update(a)\n",
    "c.update(b)\n",
    "print(c)"
   ]
  },
  {
   "cell_type": "code",
   "execution_count": null,
   "id": "8472a3c3",
   "metadata": {},
   "outputs": [],
   "source": [
    "a={}\n",
    "n=int(input(\"num\"))\n",
    "for i in range(n):\n",
    "    x=int(input(\"\"))\n",
    "    a.update({x:x*x})\n",
    "\n",
    "print(a) \n"
   ]
  },
  {
   "cell_type": "code",
   "execution_count": null,
   "id": "dd84cd3c",
   "metadata": {},
   "outputs": [],
   "source": [
    "#Write a Python program to multiply all the items in a dictionary.\n",
    "a={\"hi\":1,\"di\":2,\"sw\":3}\n",
    "result=1\n",
    "for values in a:\n",
    "    result=result*a[values]\n",
    "    print(result)\n",
    "\n"
   ]
  },
  {
   "cell_type": "code",
   "execution_count": null,
   "id": "92c204a5",
   "metadata": {},
   "outputs": [],
   "source": [
    "a={1:2,2:6}\n",
    "del a[1]\n",
    "print(a)"
   ]
  },
  {
   "cell_type": "code",
   "execution_count": null,
   "id": "00f7a8ad",
   "metadata": {},
   "outputs": [],
   "source": [
    "a1=\"apple\"\n",
    "b=a1[::-1]\n",
    "print(b)\n",
    "b=a1.replace(\"a\",\"0\").replace(\"e\",\"1\").replace(\"i\",\"2\").replace(\"o\",\"2\"),replace(\"u\",\"3\")\n",
    "\n",
    "                                                        \n",
    "    "
   ]
  },
  {
   "cell_type": "code",
   "execution_count": null,
   "id": "4d21356d",
   "metadata": {},
   "outputs": [],
   "source": [
    "#The Karaca's Encryption Algorithm\n",
    "word=input(\"\")\n",
    "word = word[::-1]\n",
    "for i in ((\"a\", \"0\"), (\"e\", \"1\"), (\"o\", \"2\"), (\"u\", \"3\"),(\"i\",\"2\")):\n",
    "    word = word.replace(*i)\n",
    "print( word+'aca')"
   ]
  },
  {
   "cell_type": "code",
   "execution_count": null,
   "id": "7e7c165d",
   "metadata": {},
   "outputs": [],
   "source": [
    "\"#\"==5\n",
    "\"o\"==3\n",
    "\"x\"==1\n",
    "\"!\"==-1\n",
    "\"!!\"==-3\n",
    "\"!!!\"==-5\n",
    "a=[]\n",
    "n=int(input(\"\"))\n",
    "for i in range(n):\n",
    "    n1=(input(\"\"))\n",
    "    a.append(n1)\n",
    "if \"5\" in a:\n",
    "    \n",
    "    \n"
   ]
  },
  {
   "cell_type": "code",
   "execution_count": null,
   "id": "ab91cfa9",
   "metadata": {},
   "outputs": [],
   "source": [
    "\n",
    "print(\"hello world\")\n",
    "\n"
   ]
  },
  {
   "cell_type": "code",
   "execution_count": null,
   "id": "bcee15e1",
   "metadata": {},
   "outputs": [],
   "source": [
    "\n",
    "a=int(input(\"\"))\n",
    "b=int(input(\"\"))\n",
    "c=a+b\n",
    "print(c)"
   ]
  },
  {
   "cell_type": "code",
   "execution_count": null,
   "id": "e0b21e10",
   "metadata": {},
   "outputs": [],
   "source": [
    "print(\"hello world\")"
   ]
  },
  {
   "cell_type": "code",
   "execution_count": null,
   "id": "75701ffd",
   "metadata": {},
   "outputs": [],
   "source": [
    "def calculator():\n",
    "    print(\"please enter your required operation\")\n",
    "    print(\"\\n1.add\\n2.sub\\n3.mul\\n4.div\")\n",
    "    \n",
    "    ch= int(input(\"enter correct s.no\"))\n",
    "    if ch==1:\n",
    "        num1=int(input(\"enter num 1;\"))\n",
    "        num2=int(input(\"enter num 2:\"))\n",
    "        su_m=num1+num2\n",
    "        print(\"the answer is :\",su_m)\n",
    "    elif ch==2:\n",
    "        su_m=num1-num2\n",
    "        print(\" the answe is :\",su_m)\n",
    "    elif ch==3:\n",
    "        su_m=num1*num2\n",
    "        print(\" the answer is:\",su_m)\n",
    "    elif ch==4:\n",
    "        su_m=num1/num2\n",
    "        print(\"the answer is:\",su_m)\n",
    "    else:\n",
    "        print(\"enter correct s.no\")\n",
    "        \n",
    "        \n",
    "    \n",
    "    "
   ]
  },
  {
   "cell_type": "code",
   "execution_count": null,
   "id": "9f296a4d",
   "metadata": {},
   "outputs": [],
   "source": [
    "calculator()"
   ]
  },
  {
   "cell_type": "code",
   "execution_count": null,
   "id": "10e176ac",
   "metadata": {},
   "outputs": [],
   "source": [
    "a=[2,5,5,9,8,7,65,6,45,45]\n",
    "a.sort()\n",
    "print(a[-4])"
   ]
  },
  {
   "cell_type": "markdown",
   "id": "af8ced71",
   "metadata": {},
   "source": []
  },
  {
   "cell_type": "code",
   "execution_count": null,
   "id": "afc1bd86",
   "metadata": {},
   "outputs": [],
   "source": [
    "n=int(input(\"\"))\n",
    "a=0\n",
    "b=1\n",
    "\n",
    "for i in range(2,n+1):\n",
    "    c=a+b\n",
    "    a=b\n",
    "    b=c\n",
    "print(b)    \n",
    "    "
   ]
  },
  {
   "cell_type": "code",
   "execution_count": null,
   "id": "8860a37b",
   "metadata": {},
   "outputs": [],
   "source": []
  },
  {
   "cell_type": "code",
   "execution_count": null,
   "id": "2b9d5199",
   "metadata": {},
   "outputs": [],
   "source": [
    "# anagram problem\n",
    "def ana():\n",
    "    a=input(\"\")\n",
    "    a1=input(\"\")\n",
    "    b=[]\n",
    "    b1=[]\n",
    "    for i in range(len(a)):\n",
    "         b.append(a[i]) \n",
    "            \n",
    "    for i in range(len(a1)):\n",
    "        b1.append(a1[i])\n",
    "    b.sort()\n",
    "    b1.sort()\n",
    "    print(b)\n",
    "    print(b1)\n",
    "    for i in range(len(b)):\n",
    "        if b==b1:\n",
    "            print(\"\")\n",
    "            if b[i]==b1[i]:\n",
    "                return \"its an anagram\"\n",
    "        else:\n",
    "            return \"its not an anagram\"\n",
    "   \n",
    "    \n",
    "    \n",
    "    \n",
    "    "
   ]
  },
  {
   "cell_type": "code",
   "execution_count": null,
   "id": "22d30ac8",
   "metadata": {},
   "outputs": [],
   "source": [
    "ana()"
   ]
  },
  {
   "cell_type": "code",
   "execution_count": null,
   "id": "b6748afd",
   "metadata": {},
   "outputs": [],
   "source": [
    "import random"
   ]
  },
  {
   "cell_type": "code",
   "execution_count": null,
   "id": "da61cc4e",
   "metadata": {},
   "outputs": [],
   "source": [
    "a=input(\"\")\n",
    "lst=[\"rock\",\"paper\",\"scisor\"]\n",
    "b=random.choice(lst)\n",
    "if a==b:\n",
    "    print(\"draw\")\n",
    "elif a==\"rock\"and b==\"paper\" or b==\"rock\" and a==\"paper\":\n",
    "    \n",
    "    \n",
    "    print(\"computer wins\")\n",
    "elif a==\"rock\" and b==\"scisor\":\n",
    "    print(b)\n",
    "    \n",
    "    print(\"you win\")\n",
    "elif a==\"paper\" and b==\"scisor\":\n",
    "    print(b)\n",
    "    \n",
    "    print(\"computer wins\")\n",
    "elif a== \"scisor\" and b==\"rock\":\n",
    "    print(b)\n",
    "    \n",
    "    print(\"you win\")\n",
    "else:\n",
    "    print(b)\n",
    "   \n"
   ]
  },
  {
   "cell_type": "code",
   "execution_count": null,
   "id": "99ed81f9",
   "metadata": {},
   "outputs": [],
   "source": [
    "a=input(\"num\")\n",
    "a1=[]\n",
    "for i in range(len(a)):\n",
    "    a1.append(a[i])\n",
    "print(\"length of the num is:\",len(a1))    "
   ]
  },
  {
   "cell_type": "code",
   "execution_count": null,
   "id": "691c16ff",
   "metadata": {},
   "outputs": [],
   "source": [
    "\n",
    "def add_odd_even():\n",
    "    a1=[1,2,3,4,5]\n",
    "    a2=[]\n",
    "    a3=[]\n",
    "    a4=[]\n",
    "    for i in range(len(a1)):\n",
    "        if a1[i]%2==0:\n",
    "            a2.append(a1[i])\n",
    "        else:\n",
    "            a3.append(a1[i])\n",
    "                         \n",
    "    a4.append(sum(a2))\n",
    "    a4.append(sum(a3))\n",
    "    print(a4)\n",
    "        \n",
    "        "
   ]
  },
  {
   "cell_type": "code",
   "execution_count": null,
   "id": "f4761279",
   "metadata": {},
   "outputs": [],
   "source": []
  },
  {
   "cell_type": "code",
   "execution_count": null,
   "id": "f33b3c87",
   "metadata": {},
   "outputs": [],
   "source": [
    "def consecutive():\n",
    "    a=[2,3,4,5,6]\n",
    "    b=[7,8,9,7] \n",
    "    a.extend(b)\n",
    "    a.sort()\n",
    "    for i in range(len(a)):\n",
    "        if a[i]+1==a[i+1]:\n",
    "            return(\"consecutive\")\n",
    "        else:\n",
    "            return(\"not conceutive\")"
   ]
  },
  {
   "cell_type": "code",
   "execution_count": null,
   "id": "10edee30",
   "metadata": {},
   "outputs": [],
   "source": [
    "a=input(\"\")\n",
    "a1=[\"hello\"]\n",
    "a=x\n",
    "for i in range(len(a1)):\n",
    "    if a1[i] in a:\n",
    "        a.replace(a,\"------\")\n",
    "print(a)    "
   ]
  },
  {
   "cell_type": "code",
   "execution_count": null,
   "id": "977231e4",
   "metadata": {},
   "outputs": [],
   "source": [
    "a"
   ]
  },
  {
   "cell_type": "code",
   "execution_count": null,
   "id": "aa549129",
   "metadata": {},
   "outputs": [],
   "source": [
    "a=[1,3,7,99,5,3,8,5,23,76]\n",
    "a.sort()\n",
    "b=len(a)-1\n",
    "print(a[b])\n"
   ]
  },
  {
   "cell_type": "code",
   "execution_count": null,
   "id": "b3b33467",
   "metadata": {},
   "outputs": [],
   "source": [
    "def lstmul():\n",
    "    a=int(input(\"num1\"))\n",
    "    b=int(input(\"num2\"))\n",
    "    a1=[]\n",
    "    for i in range(1,b+1):\n",
    "        c=a*i\n",
    "        a1.append(c)\n",
    "    print(a1)"
   ]
  },
  {
   "cell_type": "code",
   "execution_count": null,
   "id": "1abe7634",
   "metadata": {},
   "outputs": [],
   "source": [
    "lstmul()"
   ]
  },
  {
   "cell_type": "code",
   "execution_count": 1,
   "id": "0c905ea4",
   "metadata": {},
   "outputs": [
    {
     "name": "stdout",
     "output_type": "stream",
     "text": [
      "17\n",
      "8\n"
     ]
    },
    {
     "ename": "KeyboardInterrupt",
     "evalue": "",
     "output_type": "error",
     "traceback": [
      "\u001b[1;31m---------------------------------------------------------------------------\u001b[0m",
      "\u001b[1;31mKeyboardInterrupt\u001b[0m                         Traceback (most recent call last)",
      "Cell \u001b[1;32mIn[1], line 4\u001b[0m\n\u001b[0;32m      2\u001b[0m b\u001b[38;5;241m=\u001b[39m\u001b[38;5;28mint\u001b[39m(\u001b[38;5;28minput\u001b[39m(\u001b[38;5;124m\"\u001b[39m\u001b[38;5;124m\"\u001b[39m))\n\u001b[0;32m      3\u001b[0m a1\u001b[38;5;241m=\u001b[39m[]\n\u001b[1;32m----> 4\u001b[0m \u001b[38;5;28;01mwhile\u001b[39;00m a\u001b[38;5;241m>\u001b[39mb:\n\u001b[0;32m      5\u001b[0m     a\u001b[38;5;241m+\u001b[39m\u001b[38;5;241m=\u001b[39m\u001b[38;5;241m1\u001b[39m\n\u001b[0;32m      6\u001b[0m     \u001b[38;5;28;01mif\u001b[39;00m a\u001b[38;5;241m%\u001b[39mb\u001b[38;5;241m==\u001b[39m\u001b[38;5;241m0\u001b[39m:\n",
      "\u001b[1;31mKeyboardInterrupt\u001b[0m: "
     ]
    }
   ],
   "source": [
    "a=int(input(\"\"))\n",
    "b=int(input(\"\"))\n",
    "a1=[]\n",
    "while a>b:\n",
    "    a+=1\n",
    "    if a%b==0:\n",
    "        a1.append(a)\n",
    "print(a1[0])\n",
    "    \n",
    "    \n",
    "    "
   ]
  },
  {
   "cell_type": "code",
   "execution_count": null,
   "id": "23c9b967",
   "metadata": {},
   "outputs": [],
   "source": [
    "a = int(input(\"\"))\n",
    "b = int(input(\"\"))\n",
    "a1 = []\n",
    "\n",
    "while a >= b:\n",
    "    a += 1\n",
    "    if a % b == 0:\n",
    "        a1.append(a)\n",
    "\n",
    "if a1:\n",
    "    print(a1[0])\n",
    "else:\n",
    "    print(\"No such value found.\")\n"
   ]
  },
  {
   "cell_type": "code",
   "execution_count": null,
   "id": "887828a5",
   "metadata": {},
   "outputs": [],
   "source": []
  }
 ],
 "metadata": {
  "kernelspec": {
   "display_name": "Python 3 (ipykernel)",
   "language": "python",
   "name": "python3"
  },
  "language_info": {
   "codemirror_mode": {
    "name": "ipython",
    "version": 3
   },
   "file_extension": ".py",
   "mimetype": "text/x-python",
   "name": "python",
   "nbconvert_exporter": "python",
   "pygments_lexer": "ipython3",
   "version": "3.11.4"
  }
 },
 "nbformat": 4,
 "nbformat_minor": 5
}
